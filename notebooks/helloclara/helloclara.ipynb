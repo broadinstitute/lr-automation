{
 "cells": [
  {
   "cell_type": "code",
   "execution_count": 17,
   "metadata": {},
   "outputs": [
    {
     "name": "stdout",
     "output_type": "stream",
     "text": [
      "Requirement already satisfied: pyclaragenomics-cuda-10-1 in /opt/conda/lib/python3.7/site-packages (0.4.3)\n",
      "Requirement already satisfied: sortedcollections==1.1.2 in /opt/conda/lib/python3.7/site-packages (from pyclaragenomics-cuda-10-1) (1.1.2)\n",
      "Requirement already satisfied: pytest==4.4.1 in /opt/conda/lib/python3.7/site-packages (from pyclaragenomics-cuda-10-1) (4.4.1)\n",
      "Collecting numpy==1.16.3\n",
      "  Using cached numpy-1.16.3-cp37-cp37m-manylinux1_x86_64.whl (17.3 MB)\n",
      "Requirement already satisfied: flake8==3.7.8 in /opt/conda/lib/python3.7/site-packages (from pyclaragenomics-cuda-10-1) (3.7.8)\n",
      "Requirement already satisfied: matplotlib==3.0.3 in /opt/conda/lib/python3.7/site-packages (from pyclaragenomics-cuda-10-1) (3.0.3)\n",
      "Requirement already satisfied: Cython==0.29.12 in /opt/conda/lib/python3.7/site-packages (from pyclaragenomics-cuda-10-1) (0.29.12)\n",
      "Requirement already satisfied: tqdm==4.31.1 in /opt/conda/lib/python3.7/site-packages (from pyclaragenomics-cuda-10-1) (4.31.1)\n",
      "Requirement already satisfied: quast==5.0.2 in /opt/conda/lib/python3.7/site-packages (from pyclaragenomics-cuda-10-1) (5.0.2)\n",
      "Requirement already satisfied: networkx==2.4 in /opt/conda/lib/python3.7/site-packages (from pyclaragenomics-cuda-10-1) (2.4)\n",
      "Requirement already satisfied: sortedcontainers in /opt/conda/lib/python3.7/site-packages (from sortedcollections==1.1.2->pyclaragenomics-cuda-10-1) (2.2.1)\n",
      "Requirement already satisfied: atomicwrites>=1.0 in /opt/conda/lib/python3.7/site-packages (from pytest==4.4.1->pyclaragenomics-cuda-10-1) (1.4.0)\n",
      "Requirement already satisfied: attrs>=17.4.0 in /opt/conda/lib/python3.7/site-packages (from pytest==4.4.1->pyclaragenomics-cuda-10-1) (19.3.0)\n",
      "Requirement already satisfied: pluggy>=0.9 in /opt/conda/lib/python3.7/site-packages (from pytest==4.4.1->pyclaragenomics-cuda-10-1) (0.13.1)\n",
      "Requirement already satisfied: setuptools in /opt/conda/lib/python3.7/site-packages (from pytest==4.4.1->pyclaragenomics-cuda-10-1) (47.1.1.post20200529)\n",
      "Requirement already satisfied: six>=1.10.0 in /opt/conda/lib/python3.7/site-packages (from pytest==4.4.1->pyclaragenomics-cuda-10-1) (1.15.0)\n",
      "Requirement already satisfied: py>=1.5.0 in /opt/conda/lib/python3.7/site-packages (from pytest==4.4.1->pyclaragenomics-cuda-10-1) (1.8.1)\n",
      "Requirement already satisfied: more-itertools>=4.0.0; python_version > \"2.7\" in /opt/conda/lib/python3.7/site-packages (from pytest==4.4.1->pyclaragenomics-cuda-10-1) (8.3.0)\n",
      "Requirement already satisfied: mccabe<0.7.0,>=0.6.0 in /opt/conda/lib/python3.7/site-packages (from flake8==3.7.8->pyclaragenomics-cuda-10-1) (0.6.1)\n",
      "Requirement already satisfied: pyflakes<2.2.0,>=2.1.0 in /opt/conda/lib/python3.7/site-packages (from flake8==3.7.8->pyclaragenomics-cuda-10-1) (2.1.1)\n",
      "Requirement already satisfied: entrypoints<0.4.0,>=0.3.0 in /opt/conda/lib/python3.7/site-packages (from flake8==3.7.8->pyclaragenomics-cuda-10-1) (0.3)\n",
      "Requirement already satisfied: pycodestyle<2.6.0,>=2.5.0 in /opt/conda/lib/python3.7/site-packages (from flake8==3.7.8->pyclaragenomics-cuda-10-1) (2.5.0)\n",
      "Requirement already satisfied: pyparsing!=2.0.4,!=2.1.2,!=2.1.6,>=2.0.1 in /opt/conda/lib/python3.7/site-packages (from matplotlib==3.0.3->pyclaragenomics-cuda-10-1) (2.4.7)\n",
      "Requirement already satisfied: python-dateutil>=2.1 in /opt/conda/lib/python3.7/site-packages (from matplotlib==3.0.3->pyclaragenomics-cuda-10-1) (2.8.1)\n",
      "Requirement already satisfied: kiwisolver>=1.0.1 in /opt/conda/lib/python3.7/site-packages (from matplotlib==3.0.3->pyclaragenomics-cuda-10-1) (1.2.0)\n",
      "Requirement already satisfied: cycler>=0.10 in /opt/conda/lib/python3.7/site-packages (from matplotlib==3.0.3->pyclaragenomics-cuda-10-1) (0.10.0)\n",
      "Requirement already satisfied: joblib in /opt/conda/lib/python3.7/site-packages (from quast==5.0.2->pyclaragenomics-cuda-10-1) (0.15.1)\n",
      "Requirement already satisfied: simplejson in /opt/conda/lib/python3.7/site-packages (from quast==5.0.2->pyclaragenomics-cuda-10-1) (3.17.0)\n",
      "Requirement already satisfied: decorator>=4.3.0 in /opt/conda/lib/python3.7/site-packages (from networkx==2.4->pyclaragenomics-cuda-10-1) (4.4.2)\n",
      "Requirement already satisfied: importlib-metadata>=0.12; python_version < \"3.8\" in /opt/conda/lib/python3.7/site-packages (from pluggy>=0.9->pytest==4.4.1->pyclaragenomics-cuda-10-1) (1.6.1)\n",
      "Requirement already satisfied: zipp>=0.5 in /opt/conda/lib/python3.7/site-packages (from importlib-metadata>=0.12; python_version < \"3.8\"->pluggy>=0.9->pytest==4.4.1->pyclaragenomics-cuda-10-1) (3.1.0)\n",
      "\u001b[31mERROR: pandas-profiling 2.8.0 has requirement matplotlib>=3.2.0, but you'll have matplotlib 3.0.3 which is incompatible.\u001b[0m\n",
      "\u001b[31mERROR: pandas-profiling 2.8.0 has requirement tqdm>=4.43.0, but you'll have tqdm 4.31.1 which is incompatible.\u001b[0m\n",
      "Installing collected packages: numpy\n",
      "  Attempting uninstall: numpy\n",
      "    Found existing installation: numpy 1.17.5\n",
      "    Uninstalling numpy-1.17.5:\n",
      "      Successfully uninstalled numpy-1.17.5\n",
      "Successfully installed numpy-1.16.3\n"
     ]
    }
   ],
   "source": [
    "# Install a pip package in the current Jupyter kernel\n",
    "import sys\n",
    "!{sys.executable} -m pip install pyclaragenomics-cuda-10-1"
   ]
  },
  {
   "cell_type": "code",
   "execution_count": 19,
   "metadata": {},
   "outputs": [],
   "source": [
    "from claragenomics.bindings import cudaaligner\n",
    "from claragenomics.simulators.genomesim import PoissonGenomeSimulator"
   ]
  },
  {
   "cell_type": "code",
   "execution_count": 20,
   "metadata": {},
   "outputs": [],
   "source": [
    "def generate_data(max_query_len, max_target_len, num_alignments):\n",
    "    genome_sim = PoissonGenomeSimulator()\n",
    "\n",
    "    print(\"Generating data...\")\n",
    "    data = []\n",
    "    for _ in range(num_alignments):\n",
    "        query = genome_sim.build_reference(max_query_len)\n",
    "        target = genome_sim.build_reference(max_target_len)\n",
    "        data.append((query, target))\n",
    "    print(\"Data generation complete.\")\n",
    "\n",
    "    return data"
   ]
  },
  {
   "cell_type": "code",
   "execution_count": 25,
   "metadata": {},
   "outputs": [],
   "source": [
    "def run_cudaaligner(print_output):\n",
    "    max_query_len = 100\n",
    "    max_target_len = 150\n",
    "    max_alignments_per_batch = 100\n",
    "\n",
    "    sequence_pairs = generate_data(max_query_len, max_target_len, 10)\n",
    "\n",
    "    batch = cudaaligner.CudaAlignerBatch(max_query_len,\n",
    "                                         max_target_len,\n",
    "                                         max_alignments_per_batch,\n",
    "                                         device_id=0)\n",
    "\n",
    "    pair_id = 0\n",
    "    while(pair_id != len(sequence_pairs)):\n",
    "        pair = sequence_pairs[pair_id]\n",
    "        status = batch.add_alignment(pair[0], pair[1])\n",
    "\n",
    "        # Exceeded max alignments or end of list\n",
    "        if status == 2 or pair_id == len(sequence_pairs) - 1:\n",
    "            batch.align_all()\n",
    "            alignments = batch.get_alignments()\n",
    "            if print_output:\n",
    "                for a in alignments:\n",
    "                    print(\"{}\\n\".format(a))\n",
    "            batch.reset()\n",
    "            print(\"Aligned sequences till {}\".format(pair_id - 1))\n",
    "        elif status != 0:\n",
    "            print(status)\n",
    "            raise RuntimeError(\"Unexpected error occurred : {}\".format(cudaaligner.status_to_str(status)))\n",
    "\n",
    "        # If alignment was added successfully, increment counter.\n",
    "        if status == 0:\n",
    "            pair_id = pair_id + 1"
   ]
  },
  {
   "cell_type": "code",
   "execution_count": 26,
   "metadata": {},
   "outputs": [
    {
     "name": "stdout",
     "output_type": "stream",
     "text": [
      "Generating data...\n",
      "Data generation complete.\n",
      "G-CAAA-T----A-TC-G--CATACAAAATAGCCAGGGGTTA-T---A-C-GACAT--T--GC-----GGC-A---A-T-G--CACTCCAATAGAGTACG-GTCCCA-TT--T--TG---GGCATT-T-GGCAGT--A-ACAA-C-GA---T\n",
      "CTCGGAGTTCGTACTCAGGTCTTGCAGGA-AGCCAGGCGTTTGTCGGAGCCGCCCTGCTATGATATATGGCCAGCTAGTCGTTCAGTGCATTAG-GCAATTGTCTCACTTCATAGTGATAGGTACTCTAGGCGGTGTATACATTCTGGGGGT\n",
      "\n",
      "\n",
      "----TT-TC-AA--TG---T-GGAG-G---T--G--C-TG-C--G-CT---T----T-G----AA--C-C--A--CAGC-A-AA--C-GTGGTTTAGT-CCAACT-C-GC-GCCATGCCCGGCTACGATGAGTCCTC-GAAAGGCGGGCTAGCA\n",
      "CCCCTTCTCTAAAATGGAGTCGGTGTGAAGTATGAGCCTCACCCGGCTGGCTAAAATAGTTTTAAAACACGTAGACAGCTATAAAACCGTGCTGT-GTGCCTACTACCGTTGACACAACCGTCTCCTCTTCTTCCTTAGACACGCCTTTT-G--\n",
      "\n",
      "\n",
      "CT--G--A-C--G-C-CT--CG-AGCC-C----T---G-GC-TT-G-CT--TGC-T-----TCTTAGATCGG--C--GTG-CAA-GCA-T-CACT--AGGATGGG-GCTATTT-GAACGA-TTCCC-T-GAGTCGTC-AGCGGTT-AT--C\n",
      "ATTCGCTAACCTGGCACTTGCGGAACCGCCAAGTATCGCGCGTTTGACAGATGGATAGGAGTGTTATCTCAGTTCTAGAGGCCACGCAGTACACTGTAACAAGTCCGTTGTTTTGAAGGAGTTCCTATCGAGTA-TATAGCATTTGAAAAC\n",
      "\n",
      "\n",
      "----C-GA-A-GTGCTCC--TAC-ATAT-CTAAGGATGCCCCATTTAATCT--ACA-C--TG----G-T-A-G--G---TTC-GTGAG---T-AA-TGA--G-GGTCCA-----A-CATTTA-GTTA---A-ATT-CGGCA-ATGG--A-GAT\n",
      "ATTGCCGAGACGTT-TCAGGTTCTATTTACTTGGG-TGCACGACG-AGGCTCGACATCGGTGCCAAGATTATGGGGCGCTTCAGCAACCAATCAAATAAATGTGGTACTGGTTTATCATCGAAGGGACTGATATTGCTTCGTATCTCTACGGC\n",
      "\n",
      "\n",
      "T--TAGG---TGGACGGAATAGA--C-CT---G--C-GT-A-CAAGCG---C-TGCGGTTGG-T-AT-A--CGC-TAGC-CATGTGT-G-TT-AGTTTG-G-A-ATCGC-A-G-C-A-TAAA-C-TCC--TCCCT--A----CGATT--C\n",
      "AGCTACGACATTCACGGGCGAGAGGCTCTATTGGTCTGTCAACTAGCGGATCCTCCGATTCGCTGACCATGCGCGTAACGCGTGTATAGGTTCAGGATAAGCAGATCCCCAAGGCCAGTACGGCATTGGGTTAGTTTATTTACAAAAAAC\n",
      "\n",
      "\n",
      "AA--C-TGTCG-G-G-G--G-CAA-GACTTTG-ACGTA-GATGA-A---TAGGG---TA--GA-TCGAACA--AGG-CGCATCGGACTT-T-GAT--T--A-G---TG-TA-A----TT-A-TGCCAG-A--G-TCC-TTCCTTG--CAA-\n",
      "TCTTCATGACCCGCGAGCCGTCTATGCCAGTCCACGTAAGTTCTTACGCTTGGGGCCTATTGGCTCTAGCGTCAGGTCTCCTAGCCCTTATCGATGCTCCACGCGGTGGTGGACGGGTTTAGTTC-AGCAACGATCCGTTTATTGTGCACG\n",
      "\n",
      "\n",
      "--TC--AT----T-CGTC-TAGCCCGGTAC-GT-T-GCCGTAGCGTAAAA-GCTTATAACGG---GGGC--GCG--G---G-GA-T--G--T----G-AC----G-G--AAGACAAGA-TAT-A-CG--AA-TCTGATA-TCGCGCG-A-T---\n",
      "CATCCGATAAAATTCCTCATTGCACA-TAATGTCTTGTCTTA-CGCCCTACGCTTACC-CGGTCAGGCCCTGCACAGTCAGAGAATACGACTCCTAGGACCCACGCGGTAAGACTGGAGTATGAACCCCAAATC-GTTTGTCGAGAGCACTGAA\n",
      "\n",
      "\n",
      "A-GGT---GAGCGT-TAT-C-AT--CAT-CTA--A-G--C-AA---ATG--T---GGAAG-AAGAATTTATGAAA-GTGGGGAT--AA-GCTGAC---TAAGT----A-TATTTTGAA-CGTGTCA-ACT-AG--C-C---TGA--G-A--\n",
      "ATGGTATTGATCCTATAAACCAAAGCCCGCGAGCACGATCGAACCCAGGAGTTAAGGAAATAACAACTTGTGTGCCCTGTGGATGTAAAGTTCACACCTCAGTTGCCAGTACCCT-AAGCGTGACTGACCGAGGTCGCGCATGAACGGACA\n",
      "\n",
      "\n",
      "CCAAGGTGGG-T-GT--ATTACCCCAC-TGA-A-ACC----G-TC-T-CCC-AGGA-G-G--A-TTA-C-CC-CTTCTGT-TCA-ACA-G--ACTTTC--TTC-CTGAA-TAT---CTA------ATTGGG--CA---GA---G-A-CAGA-\n",
      "AGAAA-TACCCTTGCCGAGTATCTGATATGATATAGCTTAAGATGATACCCCATTCTGCGTTAATTTGCTCCAGATCTGTAT-AGACGTGGGACTGGCAATTCACTTAAGTATGGACAACTCGCTATTCGAATCATTCGAAAAGGATCTGAA\n",
      "\n",
      "\n",
      "T---GCAG-----AGAATTAG-AAT-CTAGGCCATT----G-A-ACT-GTCTCA--T-C--A-AGTCCCGGTCTATT-ATGCG-A--CAC-C---GGTA-CCAAT--AC-GTA-TG-ATTGAC-C-G--GT-CTCTGCTT--GT-------\n",
      "TTACGCATCTCCTAGCGTCAACAATGCCCGTTCAATCAAAGTACACGAGCCCCGGCTGCTCAGAGAATCGTTCTATTGATCCTTATTCAGGCTTTGGTGTCCGGTTTATTGTACTGCAAGG-CGCAGAAGCACACCGATTTAGTTTCTCGG\n",
      "\n",
      "\n",
      "Aligned sequences till 8\n"
     ]
    }
   ],
   "source": [
    "run_cudaaligner(True)"
   ]
  },
  {
   "cell_type": "code",
   "execution_count": null,
   "metadata": {},
   "outputs": [],
   "source": []
  }
 ],
 "metadata": {
  "environment": {
   "name": "common-cu101.m49",
   "type": "gcloud",
   "uri": "gcr.io/deeplearning-platform-release/base-cu101:m49"
  },
  "kernelspec": {
   "display_name": "Python 3",
   "language": "python",
   "name": "python3"
  },
  "language_info": {
   "codemirror_mode": {
    "name": "ipython",
    "version": 3
   },
   "file_extension": ".py",
   "mimetype": "text/x-python",
   "name": "python",
   "nbconvert_exporter": "python",
   "pygments_lexer": "ipython3",
   "version": "3.7.6"
  }
 },
 "nbformat": 4,
 "nbformat_minor": 4
}
